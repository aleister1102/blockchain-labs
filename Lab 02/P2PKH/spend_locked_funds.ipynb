{
 "cells": [
  {
   "cell_type": "markdown",
   "metadata": {},
   "source": [
    "## Generate address"
   ]
  },
  {
   "cell_type": "code",
   "execution_count": 2,
   "metadata": {},
   "outputs": [
    {
     "name": "stdout",
     "output_type": "stream",
     "text": [
      "- Private Key: 033b7626291d70be392e8deddcd398db3f18c14653990dc55b6db0232fb0c13ab6\n",
      "- Public Key: 033b7626291d70be392e8deddcd398db3f18c14653990dc55b6db0232fb0c13ab6\n",
      "- Bitcoin Address: mpXmyftVrYvWDfA5mux4UbRjbv7HSX6R5n\n"
     ]
    }
   ],
   "source": [
    "from bitcoin import *\n",
    "from bitcoinlib.wallets import *\n",
    "from bitcoinlib.keys import Key\n",
    "\n",
    "private_key = Key(network='testnet')\n",
    "\n",
    "public_key = private_key.public()\n",
    "\n",
    "address = public_key.address(script_type='p2pkh')\n",
    "\n",
    "print(\"- Private Key:\", private_key)\n",
    "print(\"- Public Key:\", public_key.hex())\n",
    "print(\"- Bitcoin Address:\", address)"
   ]
  },
  {
   "cell_type": "code",
   "execution_count": 25,
   "metadata": {},
   "outputs": [
    {
     "name": "stdout",
     "output_type": "stream",
     "text": [
      "KEY INFO\n",
      " Network                     testnet\n",
      " Compressed                  True\n",
      "SECRET EXPONENT\n",
      " Private Key (hex)              8f65f2107507098382ec33452a6aa8978c4c62f746858d7cd9d444e0cd1b54f7\n",
      " Private Key (long)             64860859567249213391669506717840515437136608618913780069106811675615665280247\n",
      " Private Key (wif)              cSPSzruks32S8MB2MySRKEv7V9MDcCsyUYetwgEx61aGKXmBvGEz\n",
      "PUBLIC KEY\n",
      " Public Key (hex)            0225ae05d51ab4c64b3fa312ee2a2ed9e245115e159316e28854a61175232882df\n",
      " Public Key uncompr. (hex)   0425ae05d51ab4c64b3fa312ee2a2ed9e245115e159316e28854a61175232882dfab427de08c3ca0699e032eb0cf61716fb5f7bfeb039d51c7facd7d0a23b57cf0\n",
      " Public Key Hash160          25ad08eea79ccf1ff00e46171849fd148c2e7637\n",
      " Address (b58)               mixAapuZQJqjeVSHNFDCW6KPg3g3zUKLCM\n",
      " Point x                     17043047040865155233603410576331317997690191485867412448311241346483564872415\n",
      " Point y                     77462977786103989214822713799125995932221104866563012137474211738588301065456\n",
      "None\n"
     ]
    }
   ],
   "source": [
    "print(private_key.info())"
   ]
  },
  {
   "cell_type": "markdown",
   "metadata": {},
   "source": [
    "## Unlock funds"
   ]
  },
  {
   "cell_type": "code",
   "execution_count": 13,
   "metadata": {},
   "outputs": [
    {
     "name": "stdout",
     "output_type": "stream",
     "text": [
      "txin: <Input(prev_txid='95fe30f54b0a601b64ef0010749a469b68ca1512d07b9d5401c0627451227708', output_n=0, address='', index_n=0, type='sig_pubkey')>\n",
      "txout: <Output(value=1, address=tb1q4qntek97vlff6mnxqg0d686mmnartk36997n92, type=p2pkh)>\n",
      "Verify result: True\n",
      "Tx: 98666fa371706f020d99abc115bae9554db3e03781b5919fccfcf435ddbea8ea\n"
     ]
    }
   ],
   "source": [
    "from bitcoinlib.transactions import Input, Output, Transaction\n",
    "\n",
    "# Create a transaction input (UTXO)\n",
    "txid = \"95fe30f54b0a601b64ef0010749a469b68ca1512d07b9d5401c0627451227708\" # replace here\n",
    "output_index = 0\n",
    "txin = Input(txid, output_index)\n",
    "\n",
    "print(f\"txin: {txin}\")\n",
    "\n",
    "# Create a transaction output to the desired destination\n",
    "destination_address = \"tb1q4qntek97vlff6mnxqg0d686mmnartk36997n92\" # wallet address\n",
    "amount_to_send = 1\n",
    "txout = Output(\n",
    "    amount_to_send, destination_address, network=\"testnet\", script_type=\"p2pkh\"\n",
    ")\n",
    "\n",
    "print(f\"txout: {txout}\")\n",
    "\n",
    "# Create the transaction\n",
    "tx = Transaction([txin], [txout], network=\"testnet\")\n",
    "tx.sign([private_key])\n",
    "print(f\"Verify result: {tx.verify()}\")\n",
    "print(f\"Tx: {tx}\")"
   ]
  }
 ],
 "metadata": {
  "kernelspec": {
   "display_name": "Python 3",
   "language": "python",
   "name": "python3"
  },
  "language_info": {
   "codemirror_mode": {
    "name": "ipython",
    "version": 3
   },
   "file_extension": ".py",
   "mimetype": "text/x-python",
   "name": "python",
   "nbconvert_exporter": "python",
   "pygments_lexer": "ipython3",
   "version": "3.11.7"
  }
 },
 "nbformat": 4,
 "nbformat_minor": 2
}
