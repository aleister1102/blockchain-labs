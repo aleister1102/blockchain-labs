{
 "cells": [
  {
   "cell_type": "markdown",
   "metadata": {},
   "source": [
    "#\n",
    "# Create a multi-signature wallet using Bitcoinlib testnet and then create a transaction\n",
    "#\n"
   ]
  },
  {
   "cell_type": "markdown",
   "metadata": {},
   "source": [
    "## import libraries and testnest\n",
    "\n",
    "bitcoinlib.test.sqlite is belong to bitcoinlib library\n"
   ]
  },
  {
   "cell_type": "code",
   "execution_count": 1,
   "metadata": {},
   "outputs": [
    {
     "name": "stdout",
     "output_type": "stream",
     "text": [
      "sqlite:///C:\\Users\\Klaus\\.bitcoinlib\\database\\bitcoinlib.test.sqlite\n"
     ]
    }
   ],
   "source": [
    "import os\n",
    "from pprint import pprint\n",
    "from bitcoinlib.wallets import *\n",
    "\n",
    "test_databasefile = os.path.join(BCL_DATABASE_DIR, 'bitcoinlib.test.sqlite')\n",
    "test_database = 'sqlite:///' + test_databasefile\n",
    "if os.path.isfile(test_databasefile):\n",
    "    os.remove(test_databasefile)\n",
    "\n",
    "print(test_database)\n"
   ]
  },
  {
   "cell_type": "markdown",
   "metadata": {},
   "source": [
    "## Create 3 wallets with one private keys each, and 2 public keys corresponding with other wallets"
   ]
  },
  {
   "cell_type": "code",
   "execution_count": 2,
   "metadata": {},
   "outputs": [],
   "source": [
    "NETWORK = 'bitcoinlib_test' # Bitcoin test network.\n",
    "\n",
    "#Create 3 new private key. HDKey is a \"hierarchical deterministic key\" for use in BIP32 wallets.\n",
    "pk1 = HDKey(network=NETWORK) \n",
    "pk2 = HDKey(network=NETWORK)\n",
    "pk3 = HDKey(network=NETWORK)\n",
    "\n",
    "#Create 3 new wallets, each with a different private key.\n",
    "## w1 with private key pk1 and public key corresponding to the second and third private key\n",
    "klist = [pk1, pk2.public_master_multisig(), pk3.public_master_multisig()]\n",
    "wl1 = Wallet.create('multisig_2of3_cosigner1', sigs_required=2, keys=klist,\n",
    "                    network=NETWORK, db_uri=test_database)\n",
    "\n",
    "## w2 with private key pk2 and public key corresponding to the first and third private key\n",
    "klist = [pk1.public_master_multisig(), pk2, pk3.public_master_multisig()]\n",
    "wl2 = Wallet.create('multisig_2of3_cosigner2',  sigs_required=2, keys=klist,\n",
    "                    network=NETWORK, db_uri=test_database)\n",
    "\n",
    "## w3 with private key pk3 and public key corresponding to the first and second private key\n",
    "klist = [pk1.public_master_multisig(), pk2.public_master_multisig(), pk3]\n",
    "wl3 = Wallet.create('multisig_2of3_cosigner3', sigs_required=2, keys=klist,\n",
    "                    network=NETWORK, db_uri=test_database)"
   ]
  },
  {
   "cell_type": "markdown",
   "metadata": {},
   "source": [
    "## Generate a new key in each wallet, all these keys should be the same"
   ]
  },
  {
   "cell_type": "code",
   "execution_count": 3,
   "metadata": {},
   "outputs": [
    {
     "name": "stdout",
     "output_type": "stream",
     "text": [
      "Created new multisig address:  multisig-<Address(address=231wVWoFJjjUo1ZbTNR77KmZi9u9aiJWvW4)>\n"
     ]
    }
   ],
   "source": [
    "nk1 = wl1.new_key(cosigner_id=1)\n",
    "nk2 = wl2.new_key(cosigner_id=1)\n",
    "nk3 = wl3.new_key(cosigner_id=1)\n",
    "assert nk1.wif == nk2.wif == nk3.wif # make sure they are the same\n",
    "print(\"Created new multisig address: \", nk1.wif)\n"
   ]
  },
  {
   "cell_type": "markdown",
   "metadata": {},
   "source": [
    "## Create a transaction"
   ]
  },
  {
   "cell_type": "code",
   "execution_count": 4,
   "metadata": {},
   "outputs": [
    {
     "name": "stdout",
     "output_type": "stream",
     "text": [
      "UTXO:  {'output_n': 0, 'key_id': 46, 'script': b'', 'value': 100000000, 'spending_txid': None, 'transaction_id': 1, 'address': '231wVWoFJjjUo1ZbTNR77KmZi9u9aiJWvW4', 'script_type': 'p2sh', 'spent': False, 'spending_index_n': None, 'confirmations': 10, 'txid': '81e9f83bef943026f66e9c0ebbe43d326067a1f0dd8cba4df4ce908b611cc0da', 'network_name': 'bitcoinlib_test'}\n"
     ]
    }
   ],
   "source": [
    "fee = 29348 # fee in satoshi\n",
    "\n",
    "#updates the Unspent Transaction Outputs (UTXOs) for wl1, which is a wallet object\n",
    "wl1.utxos_update()  # On bitcoinlib testnet, this automatically creates an UTXO\n",
    "utxo = wl1.utxos()[0] # get the first UTXO available\n",
    "print(\"UTXO: \", utxo)\n",
    "\n",
    "# Defining Output and Input for the Transaction\n",
    "# + Output: The address to send the transaction to and the amount to send\n",
    "# + Input: The UTXO to use as input for the transaction: the transaction id, the output number, the key id and the value\n",
    "output_arr = [('23Gd1mfrqgaYiPGkMm5n5UDRkCxruDAA8wo', utxo['value'] - fee)]\n",
    "input_arr = [(utxo['txid'], utxo['output_n'], utxo['key_id'], utxo['value'])]\n",
    "\n",
    "# Create a transaction for wallet: wl1\n",
    "t = wl1.transaction_create(output_arr, input_arr, fee=fee)\n"
   ]
  },
  {
   "cell_type": "markdown",
   "metadata": {},
   "source": [
    "## sign transaction with first wallet, it should not verify yet"
   ]
  },
  {
   "cell_type": "code",
   "execution_count": 5,
   "metadata": {},
   "outputs": [
    {
     "name": "stdout",
     "output_type": "stream",
     "text": [
      "{'block_hash': None,\n",
      " 'block_height': None,\n",
      " 'coinbase': False,\n",
      " 'confirmations': None,\n",
      " 'date': None,\n",
      " 'fee': 29348,\n",
      " 'fee_per_kb': 79105,\n",
      " 'flag': None,\n",
      " 'input_total': 100000000,\n",
      " 'inputs': [{'address': '231wVWoFJjjUo1ZbTNR77KmZi9u9aiJWvW4',\n",
      "             'compressed': True,\n",
      "             'double_spend': False,\n",
      "             'encoding': 'base58',\n",
      "             'index_n': 0,\n",
      "             'locktime_cltv': None,\n",
      "             'locktime_csv': None,\n",
      "             'output_n': 0,\n",
      "             'prev_txid': '81e9f83bef943026f66e9c0ebbe43d326067a1f0dd8cba4df4ce908b611cc0da',\n",
      "             'public_hash': '2743fdd6e8a9564111b040d1729fe961e37c4199',\n",
      "             'public_keys': ['0281a8306fd3d34f1978828a79ef6ca9251de5f1dd854ca2f5c5f69be567576e02',\n",
      "                             '037921457763804f3316c8a75c341c501d479d83fc135beab5ad1fe0a11c761b35',\n",
      "                             '03890f0a5f2f92e02a6a304cd26f37ce29e4c7a3ce9733ca0ee53c2a18aa2bef83'],\n",
      "             'redeemscript': '52210281a8306fd3d34f1978828a79ef6ca9251de5f1dd854ca2f5c5f69be567576e0221037921457763804f3316c8a75c341c501d479d83fc135beab5ad1fe0a11c761b352103890f0a5f2f92e02a6a304cd26f37ce29e4c7a3ce9733ca0ee53c2a18aa2bef8353ae',\n",
      "             'script': '',\n",
      "             'script_code': '',\n",
      "             'script_type': 'p2sh_multisig',\n",
      "             'sequence': 4294967295,\n",
      "             'signatures': ['58ff00cf677ec87d7b13f65ecfaf73a93ac77a7d40b422eef7d8e00540df0eed7af88f2f4633cf9d9e00821d9b1ff4394dcaf9772cf22e8c96722ad819f77aec'],\n",
      "             'sigs_required': 2,\n",
      "             'sort': True,\n",
      "             'unlocking_script': '',\n",
      "             'unlocking_script_unsigned': '52210281a8306fd3d34f1978828a79ef6ca9251de5f1dd854ca2f5c5f69be567576e0221037921457763804f3316c8a75c341c501d479d83fc135beab5ad1fe0a11c761b352103890f0a5f2f92e02a6a304cd26f37ce29e4c7a3ce9733ca0ee53c2a18aa2bef8353ae',\n",
      "             'valid': None,\n",
      "             'value': 100000000,\n",
      "             'witness': '',\n",
      "             'witness_type': 'legacy'}],\n",
      " 'locktime': 0,\n",
      " 'network': 'bitcoinlib_test',\n",
      " 'output_total': 99970652,\n",
      " 'outputs': [{'address': '23Gd1mfrqgaYiPGkMm5n5UDRkCxruDAA8wo',\n",
      "              'output_n': 0,\n",
      "              'public_hash': 'c84f3b5982b2976cbac16d8defa908566deecb6b',\n",
      "              'public_key': '',\n",
      "              'script': 'a914c84f3b5982b2976cbac16d8defa908566deecb6b87',\n",
      "              'script_type': 'p2sh',\n",
      "              'spending_index_n': None,\n",
      "              'spending_txid': None,\n",
      "              'spent': False,\n",
      "              'value': 99970652}],\n",
      " 'raw': '0100000001dac01c618b90cef44dba8cddf0a16760323de4bb0e9c6ef6263094ef3bf8e9810000000000ffffffff015c6ef5050000000017a914c84f3b5982b2976cbac16d8defa908566deecb6b8700000000',\n",
      " 'size': 371,\n",
      " 'status': 'new',\n",
      " 'txhash': '',\n",
      " 'txid': 'd471b382314ec6f38f915de4f5093f8da38c76f0e9e34185076271d9e1eb13d7',\n",
      " 'verified': False,\n",
      " 'version': 1,\n",
      " 'vsize': 371,\n",
      " 'witness_type': 'legacy'}\n",
      "Verified (should be False):  False\n"
     ]
    }
   ],
   "source": [
    "# Sign the transaction with the private key of the first cosigner\n",
    "t.sign()\n",
    "\n",
    "#display the transaction information\n",
    "pprint(t.as_dict())\n",
    "\n",
    "#verify the transaction (with unverified Signature)\n",
    "print(\"Verified (should be False): \", t.verify())"
   ]
  },
  {
   "cell_type": "markdown",
   "metadata": {},
   "source": [
    "## Import transaction (with first signature) in 3rd wallet and sign with wallet's private key"
   ]
  },
  {
   "cell_type": "code",
   "execution_count": 6,
   "metadata": {},
   "outputs": [
    {
     "name": "stdout",
     "output_type": "stream",
     "text": [
      "Verified (should be True by now):  True\n"
     ]
    }
   ],
   "source": [
    "#update the UTXOs for wl3\n",
    "wl3.utxos_update()\n",
    "\n",
    "#Import the transaction t into wl3: this will add the transaction to the database and update the UTXOs\n",
    "t2 = wl3.transaction_import(t)\n",
    "\n",
    "#verify the transaction (with verified Signature)\n",
    "t2.sign()\n",
    "\n",
    "#check if the transaction is valid\n",
    "print(\"Verified (should be True by now): \", t2.verify())"
   ]
  },
  {
   "cell_type": "markdown",
   "metadata": {},
   "source": [
    "#\n",
    "# Create Multisig 2-of-2 testnet wallet, and sweep all UTXO's\n",
    "#"
   ]
  },
  {
   "cell_type": "markdown",
   "metadata": {},
   "source": [
    "## Create 2 cosigner multisig wallets"
   ]
  },
  {
   "cell_type": "code",
   "execution_count": 7,
   "metadata": {},
   "outputs": [],
   "source": [
    "NETWORK = 'bitcoinlib_test' # Bitcoin test network.\n",
    "\n",
    "#Create 2 new private key.\n",
    "pk1 = HDKey(network=NETWORK)\n",
    "pk2 = HDKey(network=NETWORK)\n",
    "\n",
    "#Create 2 new wallets, each with a different private key.\n",
    "wl1 = Wallet.create('multisig_2of2_cosigner1', sigs_required=2,\n",
    "                    keys=[pk1, pk2.public_master_multisig()],\n",
    "                    network=NETWORK, db_uri=test_database)\n",
    "wl2 = Wallet.create('multisig_2of2_cosigner2', sigs_required=2,\n",
    "                    keys=[pk1.public_master_multisig(), pk2],\n",
    "                    network=NETWORK, db_uri=test_database)\n",
    "\n",
    "#Create a new key for each wallet\n",
    "nk1 = wl1.new_key()\n",
    "nk2 = wl2.new_key(cosigner_id=0) # cosigner_id=0 means that this is the first cosigner"
   ]
  },
  {
   "cell_type": "markdown",
   "metadata": {},
   "source": [
    "## Create a transaction for send within the wallet 1"
   ]
  },
  {
   "cell_type": "code",
   "execution_count": 8,
   "metadata": {},
   "outputs": [
    {
     "name": "stdout",
     "output_type": "stream",
     "text": [
      "Utxo's found, now sweep wallet\n",
      "Transaction ID:  453466c2c4656ca8dd56d8e8ede8c4e28b1e10329c995cb23f1ba4b6f040e30d\n",
      "UTXOs in wl2 before update:  []\n",
      "UTXOs in wl2 afterupdate:  [{'output_n': 0, 'key_id': 86, 'script': b'', 'value': 100000000, 'spending_txid': None, 'transaction_id': 7, 'address': '23Lb8qjWggZ2TNed9YSv5goKKDcvsMYMbta', 'script_type': 'p2sh', 'spent': False, 'spending_index_n': None, 'confirmations': 10, 'txid': 'fde43536407c22c8530df36bf9251c216f5eb80c8f50fb003937d913b3520499', 'network_name': 'bitcoinlib_test'}, {'output_n': 0, 'key_id': 86, 'script': b'', 'value': 100000000, 'spending_txid': None, 'transaction_id': 8, 'address': '23Lb8qjWggZ2TNed9YSv5goKKDcvsMYMbta', 'script_type': 'p2sh', 'spent': False, 'spending_index_n': None, 'confirmations': 10, 'txid': 'ed257e37ef469f26e324b5bcb1bc103f79998bd8f56d0dc1ebc3eb7268411f7e', 'network_name': 'bitcoinlib_test'}]\n",
      "Keys in wl2:  [<DbKey(id='86', name='Multisig Key 85/73', wif='multisig-<Address(address=23Lb8qjWggZ2TNed9YSv5goKKDcvsMYMbta)>'>, <DbKey(id='93', name='Multisig Key 92/78', wif='multisig-<Address(address=233CMCQgJ34zz7wkmXtsNhMXgUACZZfPb7Q)>'>]\n",
      "Verified (should be True):  True\n",
      "Push transaction result:  unconfirmed\n"
     ]
    }
   ],
   "source": [
    "\n",
    "wl1.utxos_update() # Update UTXO's in wallet 1\n",
    "utxos = wl1.utxos() # Get UTXO's in wallet 1\n",
    "if not utxos: # If no UTXO's found, print address to deposit testnet bitcoin\n",
    "    print(\"Deposit testnet bitcoin to this address to create transaction: \", nk1.address)\n",
    "else: # If UTXO's found, sweep wallet\n",
    "    print(\"Utxo's found, now sweep wallet\")\n",
    "\n",
    "    # Sweep wallet 1\n",
    "    # sweep help create and broadcast a transaction that consolidates all UTXOs in the wallet (wl1) and sends the funds to a new address within the same wallet\n",
    "    res = wl1.sweep(wl1.new_key().address, min_confirms=0)\n",
    "    assert res.txid # expect a transaction ID, indicating that the sweep operation was successful, and a transaction ID (txid) was generated\n",
    "    print(\"Transaction ID: \", res.txid)\n",
    "\n",
    "\n",
    "    print(\"UTXOs in wl2 before update: \", wl2.utxos())  # Debug print\n",
    "    wl2.utxos_update()# Update UTXO's in wallet 2 :This is important because the sweep operation in wl1 might create new UTXOs, and wl2 needs to be aware of them\n",
    "    wl2.new_key() # Create a new key in wallet 2 for the change address\n",
    "    print(\"UTXOs in wl2 afterupdate: \", wl2.utxos())  # Debug print\n",
    "    print(\"Keys in wl2: \", wl2.keys())  # Debug print\n",
    "    \n",
    "    #Imports the sweep transaction into wl2\n",
    "    t2 = wl2.transaction_import(res)\n",
    "\n",
    "    #Signs the transaction with the private key of the first cosigner\n",
    "    t2.sign()\n",
    "    print(\"Verified (should be True): \", t2.verify())\n",
    "\n",
    "    #Pushes the transaction to the network\n",
    "    t2.send()\n",
    "    print(\"Push transaction result: \", t2.status)"
   ]
  },
  {
   "cell_type": "markdown",
   "metadata": {},
   "source": [
    "## create a transaction with 2 signatures and broadcast it to specific address"
   ]
  },
  {
   "cell_type": "code",
   "execution_count": 15,
   "metadata": {},
   "outputs": [
    {
     "name": "stdout",
     "output_type": "stream",
     "text": [
      "UTXOs found, now create transaction\n",
      "Verified (should be False because wallet 2 not sign yet, we just have wallet 1 signed by now):  False\n",
      "\n",
      "Push transaction result:  new\n",
      "UTXOs in wl2 before update:  [{'output_n': 0, 'key_id': 120, 'script': b'', 'value': 100000000, 'spending_txid': None, 'transaction_id': 18, 'address': '2315HaLFtYyZxc1Qtkk4AYLhSNnD4vdAg4P', 'script_type': 'p2sh', 'spent': False, 'spending_index_n': None, 'confirmations': 10, 'txid': '9efcf39858c30c1b5c64b8f7e65435b7bfdb59fe0a44434d92fdf198b40ef683', 'network_name': 'bitcoinlib_test'}]\n",
      "UTXOs in wl2 afterupdate:  [{'output_n': 0, 'key_id': 120, 'script': b'', 'value': 100000000, 'spending_txid': None, 'transaction_id': 18, 'address': '2315HaLFtYyZxc1Qtkk4AYLhSNnD4vdAg4P', 'script_type': 'p2sh', 'spent': False, 'spending_index_n': None, 'confirmations': 10, 'txid': '9efcf39858c30c1b5c64b8f7e65435b7bfdb59fe0a44434d92fdf198b40ef683', 'network_name': 'bitcoinlib_test'}]\n",
      "Keys in wl2:  [<DbKey(id='120', name='Multisig Key 108/119', wif='multisig-<Address(address=2315HaLFtYyZxc1Qtkk4AYLhSNnD4vdAg4P)>'>]\n",
      "\n",
      "\n",
      "Verified by wallet 2 (should be True because both wallet are signed now):  True\n",
      "Push transaction result:  unconfirmed\n"
     ]
    }
   ],
   "source": [
    "wl1.utxos_update()\n",
    "\n",
    "# Specify the destination address and amount in satoshis\n",
    "fee = 29348 # fee in satoshi\n",
    "utxo = wl1.utxos()[0] # get the first UTXO available\n",
    "output_arr = [('23Gd1mfrqgaYiPGkMm5n5UDRkCxruDAA8wo', 500000)]\n",
    "input_arr = [(utxo['txid'], utxo['output_n'], utxo['key_id'], utxo['value'])]\n",
    "\n",
    "# Get UTXOs from the wallet (assuming they exist)\n",
    "wl1.utxos_update()\n",
    "utxos = wl1.utxos()\n",
    "\n",
    "if not utxos:\n",
    "    print(\"No UTXOs found, deposit testnet bitcoin to this address to create transaction: \", nk1.address)\n",
    "else:\n",
    "    print(\"UTXOs found, now create transaction\")\n",
    "    # Create the transaction\n",
    "    t = wl1.transaction_create(output_arr, input_arr, fee=fee)\n",
    "    # Sign the transaction\n",
    "    t.sign()\n",
    "    # Verify the transaction\n",
    "    print(\"Verified (should be False because wallet 2 not sign yet, we just have wallet 1 signed by now): \", t.verify())\n",
    "    # Push the transaction to the network\n",
    "    t.send()\n",
    "    print(\"\\nPush transaction result: \", t.status)\n",
    "\n",
    "    # send to wallet 2 to sign\n",
    "    print(\"UTXOs in wl2 before update: \", wl2.utxos())  # Debug print\n",
    "    wl2.utxos_update()# Update UTXO's in wallet 2 :This is important because the sweep operation in wl1 might create new UTXOs, and wl2 needs to be aware of them\n",
    "    wl2.new_key() # Create a new key in wallet 2 for the change address\n",
    "    print(\"UTXOs in wl2 afterupdate: \", wl2.utxos())  # Debug print\n",
    "    print(\"Keys in wl2: \", wl2.keys())  # Debug print\n",
    "    \n",
    "    #Imports the sweep transaction into wl2\n",
    "    t2 = wl2.transaction_import(t)\n",
    "\n",
    "    #Signs the transaction with the private key of the first cosigner\n",
    "    t2.sign()\n",
    "    print(\"\\n\\nVerified by wallet 2 (should be True because both wallet are signed now): \", t2.verify())\n",
    "\n",
    "    #Pushes the transaction to the network\n",
    "    t2.send()\n",
    "    print(\"Push transaction result: \", t2.status)"
   ]
  },
  {
   "cell_type": "markdown",
   "metadata": {},
   "source": [
    "#\n",
    "# Multisig wallet using single keys for cosigner wallet instead of BIP32 type key structures\n",
    "#\n",
    "\n",
    "this means we only need one private key to sign a transaction, this will simpler than 2-of-2 multisig wallet above"
   ]
  },
  {
   "cell_type": "code",
   "execution_count": 10,
   "metadata": {},
   "outputs": [],
   "source": [
    "NETWORK = 'bitcoinlib_test'\n",
    "pk1 = HDKey('YXscyqNJ5YK411nwB33KeVkhSVjwwUkSG9xG3hkaoQFEbTwNJSrNTfni3aSSYiKtPeUPrFLwDsqHwZjNXhYm2DLEkQoaoikHoK2emrHv'\n",
    "            'mqSEZrKP', network=NETWORK)\n",
    "pk2 = HDKey('YXscyqNJ5YK411nwB3kXiApMaJySYss8sMM9FYgXMtmQKmDTF9yiu7yBNKnVjE8WdVVvuhxLqS6kHvW2MPHKmYzbzEHQsDXXAZuu1rCs'\n",
    "            'Hcp7rrJx', network=NETWORK, key_type='single')\n",
    "wl1 = Wallet.create('multisig_single_keys1', [pk1, pk2.public()],\n",
    "                    sigs_required=2, network=NETWORK, db_uri=test_database)\n",
    "wl2 = Wallet.create('multisig_single_keys2', [pk1.public_master_multisig(), pk2],\n",
    "                    sigs_required=2, network=NETWORK, db_uri=test_database)"
   ]
  },
  {
   "cell_type": "markdown",
   "metadata": {},
   "source": [
    "## Create multisig keys and update UTXO's"
   ]
  },
  {
   "cell_type": "code",
   "execution_count": 11,
   "metadata": {},
   "outputs": [
    {
     "data": {
      "text/plain": [
       "2"
      ]
     },
     "execution_count": 11,
     "metadata": {},
     "output_type": "execute_result"
    }
   ],
   "source": [
    "# create a new key for each wallet and indicate that anyone can be the cosigner\n",
    "wl1.new_key(cosigner_id=0)\n",
    "wl2.new_key(cosigner_id=0)\n",
    "\n",
    "# update the UTXOs for each wallet\n",
    "wl1.utxos_update()\n",
    "wl2.utxos_update()"
   ]
  },
  {
   "cell_type": "markdown",
   "metadata": {},
   "source": [
    "## Create transaction and sign with both wallets, return address should be the same"
   ]
  },
  {
   "cell_type": "code",
   "execution_count": 12,
   "metadata": {},
   "outputs": [
    {
     "name": "stdout",
     "output_type": "stream",
     "text": [
      "23Gd1mfrqgaYiPGkMm5n5UDRkCxruDAA8wo == 23Gd1mfrqgaYiPGkMm5n5UDRkCxruDAA8wo: True\n",
      "Verified (should be True):  True\n"
     ]
    }
   ],
   "source": [
    "# create a transaction \"t\" in waller 2\n",
    "t = wl2.transaction_create([('23Gd1mfrqgaYiPGkMm5n5UDRkCxruDAA8wo', 5000000)])\n",
    "t.sign() # sign the transaction with the private key(s) associated with wl2\n",
    "\n",
    "# import the transaction into wl1\n",
    "t2 = wl1.transaction_import(t)\n",
    "t2.sign()# sign the transaction with the private key(s) associated with wl1 and update the UTXOs\n",
    "\n",
    "# verify the transaction\n",
    "print(\"%s == %s: %s\" % (t.outputs[1].address, t2.outputs[1].address, t.outputs[1].address == t2.outputs[1].address))\n",
    "print(\"Verified (should be True): \", t2.verify())"
   ]
  }
 ],
 "metadata": {
  "kernelspec": {
   "display_name": "base",
   "language": "python",
   "name": "python3"
  },
  "language_info": {
   "codemirror_mode": {
    "name": "ipython",
    "version": 3
   },
   "file_extension": ".py",
   "mimetype": "text/x-python",
   "name": "python",
   "nbconvert_exporter": "python",
   "pygments_lexer": "ipython3",
   "version": "3.10.9"
  }
 },
 "nbformat": 4,
 "nbformat_minor": 2
}
