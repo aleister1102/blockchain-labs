{
 "cells": [
  {
   "cell_type": "markdown",
   "metadata": {},
   "source": [
    "#\n",
    "# Create a multi-signature wallet using Bitcoinlib testnet and then create a transaction\n",
    "#\n"
   ]
  },
  {
   "cell_type": "markdown",
   "metadata": {},
   "source": [
    "## import libraries and testnest\n",
    "\n",
    "bitcoinlib.test.sqlite is belong to bitcoinlib library\n"
   ]
  },
  {
   "cell_type": "code",
   "execution_count": 1,
   "metadata": {},
   "outputs": [
    {
     "name": "stdout",
     "output_type": "stream",
     "text": [
      "sqlite:///C:\\Users\\Klaus\\.bitcoinlib\\database\\bitcoinlib.test.sqlite\n"
     ]
    }
   ],
   "source": [
    "import os\n",
    "from pprint import pprint\n",
    "from bitcoinlib.wallets import *\n",
    "\n",
    "test_databasefile = os.path.join(BCL_DATABASE_DIR, 'bitcoinlib.test.sqlite')\n",
    "test_database = 'sqlite:///' + test_databasefile\n",
    "if os.path.isfile(test_databasefile):\n",
    "    os.remove(test_databasefile)\n",
    "\n",
    "print(test_database)\n"
   ]
  },
  {
   "cell_type": "markdown",
   "metadata": {},
   "source": [
    "## Create 3 wallets with one private keys each, and 2 public keys corresponding with other wallets"
   ]
  },
  {
   "cell_type": "code",
   "execution_count": 2,
   "metadata": {},
   "outputs": [],
   "source": [
    "NETWORK = 'bitcoinlib_test' # Bitcoin test network.\n",
    "\n",
    "#Create 3 new private key. HDKey is a \"hierarchical deterministic key\" for use in BIP32 wallets.\n",
    "pk1 = HDKey(network=NETWORK) \n",
    "pk2 = HDKey(network=NETWORK)\n",
    "pk3 = HDKey(network=NETWORK)\n",
    "\n",
    "#Create 3 new wallets, each with a different private key.\n",
    "## w1 with private key pk1 and public key corresponding to the second and third private key\n",
    "klist = [pk1, pk2.public_master_multisig(), pk3.public_master_multisig()]\n",
    "wl1 = Wallet.create('multisig_2of3_cosigner1', sigs_required=2, keys=klist,\n",
    "                    network=NETWORK, db_uri=test_database)\n",
    "\n",
    "## w2 with private key pk2 and public key corresponding to the first and third private key\n",
    "klist = [pk1.public_master_multisig(), pk2, pk3.public_master_multisig()]\n",
    "wl2 = Wallet.create('multisig_2of3_cosigner2',  sigs_required=2, keys=klist,\n",
    "                    network=NETWORK, db_uri=test_database)\n",
    "\n",
    "## w3 with private key pk3 and public key corresponding to the first and second private key\n",
    "klist = [pk1.public_master_multisig(), pk2.public_master_multisig(), pk3]\n",
    "wl3 = Wallet.create('multisig_2of3_cosigner3', sigs_required=2, keys=klist,\n",
    "                    network=NETWORK, db_uri=test_database)"
   ]
  },
  {
   "cell_type": "markdown",
   "metadata": {},
   "source": [
    "## Generate a new key in each wallet, all these keys should be the same"
   ]
  },
  {
   "cell_type": "code",
   "execution_count": 3,
   "metadata": {},
   "outputs": [
    {
     "name": "stdout",
     "output_type": "stream",
     "text": [
      "Created new multisig address:  multisig-<Address(address=235xxsdL4WHAm7X6UcsuzCQKps7yLCGGrzV)>\n"
     ]
    }
   ],
   "source": [
    "nk1 = wl1.new_key(cosigner_id=1)\n",
    "nk2 = wl2.new_key(cosigner_id=1)\n",
    "nk3 = wl3.new_key(cosigner_id=1)\n",
    "assert nk1.wif == nk2.wif == nk3.wif # make sure they are the same\n",
    "print(\"Created new multisig address: \", nk1.wif)\n"
   ]
  },
  {
   "cell_type": "markdown",
   "metadata": {},
   "source": [
    "## Create a transaction"
   ]
  },
  {
   "cell_type": "code",
   "execution_count": 4,
   "metadata": {},
   "outputs": [
    {
     "name": "stdout",
     "output_type": "stream",
     "text": [
      "UTXO:  {'key_id': 46, 'output_n': 0, 'script': b'', 'value': 100000000, 'spending_txid': None, 'transaction_id': 1, 'address': '235xxsdL4WHAm7X6UcsuzCQKps7yLCGGrzV', 'script_type': 'p2sh', 'spent': False, 'spending_index_n': None, 'confirmations': 10, 'txid': '2e1d6f86cae8d1d1cc2284883dad563bd2707728ccbb3260c53ba9dc69b1a3e4', 'network_name': 'bitcoinlib_test'}\n"
     ]
    }
   ],
   "source": [
    "fee = 29348 # fee in satoshi\n",
    "\n",
    "#updates the Unspent Transaction Outputs (UTXOs) for wl1, which is a wallet object\n",
    "wl1.utxos_update()  # On bitcoinlib testnet, this automatically creates an UTXO\n",
    "utxo = wl1.utxos()[0] # get the first UTXO available\n",
    "print(\"UTXO: \", utxo)\n",
    "\n",
    "# Defining Output and Input for the Transaction\n",
    "# + Output: The address to send the transaction to and the amount to send\n",
    "# + Input: The UTXO to use as input for the transaction: the transaction id, the output number, the key id and the value\n",
    "output_arr = [('23Gd1mfrqgaYiPGkMm5n5UDRkCxruDAA8wo', utxo['value'] - fee)]\n",
    "input_arr = [(utxo['txid'], utxo['output_n'], utxo['key_id'], utxo['value'])]\n",
    "\n",
    "# Create a transaction for wallet: wl1\n",
    "t = wl1.transaction_create(output_arr, input_arr, fee=fee)\n"
   ]
  },
  {
   "cell_type": "markdown",
   "metadata": {},
   "source": [
    "## sign transaction with first wallet, it should not verify yet"
   ]
  },
  {
   "cell_type": "code",
   "execution_count": 5,
   "metadata": {},
   "outputs": [
    {
     "name": "stdout",
     "output_type": "stream",
     "text": [
      "{'block_hash': None,\n",
      " 'block_height': None,\n",
      " 'coinbase': False,\n",
      " 'confirmations': None,\n",
      " 'date': None,\n",
      " 'fee': 29348,\n",
      " 'fee_per_kb': 79105,\n",
      " 'flag': None,\n",
      " 'input_total': 100000000,\n",
      " 'inputs': [{'address': '235xxsdL4WHAm7X6UcsuzCQKps7yLCGGrzV',\n",
      "             'compressed': True,\n",
      "             'double_spend': False,\n",
      "             'encoding': 'base58',\n",
      "             'index_n': 0,\n",
      "             'locktime_cltv': None,\n",
      "             'locktime_csv': None,\n",
      "             'output_n': 0,\n",
      "             'prev_txid': '2e1d6f86cae8d1d1cc2284883dad563bd2707728ccbb3260c53ba9dc69b1a3e4',\n",
      "             'public_hash': '536bbfb7fd804b3c702aeff9bfd9c8bafd393666',\n",
      "             'public_keys': ['03423572ee8447033b3ba3ff446fc5dc25a3b229565b1ff1faba1e4a2e451ecb08',\n",
      "                             '03b5fcf9e28cbe207ab214711746026663e1aaa22e4c15f0c10c8551837d73dc31',\n",
      "                             '03d4d37728a9680c2badb20f4bac56fa965433af0977ef81547f3061f866ac28e0'],\n",
      "             'redeemscript': '522103423572ee8447033b3ba3ff446fc5dc25a3b229565b1ff1faba1e4a2e451ecb082103b5fcf9e28cbe207ab214711746026663e1aaa22e4c15f0c10c8551837d73dc312103d4d37728a9680c2badb20f4bac56fa965433af0977ef81547f3061f866ac28e053ae',\n",
      "             'script': '',\n",
      "             'script_code': '',\n",
      "             'script_type': 'p2sh_multisig',\n",
      "             'sequence': 4294967295,\n",
      "             'signatures': ['33b7db3f5d46c5fdb7af3e85b21ed934c3ccff078e3918a61158a8626024c2eb45ee1e078aae348bfdca32cb1a4ab573cb33302e083cc20d95f5f0d3175a3ce2'],\n",
      "             'sigs_required': 2,\n",
      "             'sort': True,\n",
      "             'unlocking_script': '',\n",
      "             'unlocking_script_unsigned': '522103423572ee8447033b3ba3ff446fc5dc25a3b229565b1ff1faba1e4a2e451ecb082103b5fcf9e28cbe207ab214711746026663e1aaa22e4c15f0c10c8551837d73dc312103d4d37728a9680c2badb20f4bac56fa965433af0977ef81547f3061f866ac28e053ae',\n",
      "             'valid': None,\n",
      "             'value': 100000000,\n",
      "             'witness': '',\n",
      "             'witness_type': 'legacy'}],\n",
      " 'locktime': 0,\n",
      " 'network': 'bitcoinlib_test',\n",
      " 'output_total': 99970652,\n",
      " 'outputs': [{'address': '23Gd1mfrqgaYiPGkMm5n5UDRkCxruDAA8wo',\n",
      "              'output_n': 0,\n",
      "              'public_hash': 'c84f3b5982b2976cbac16d8defa908566deecb6b',\n",
      "              'public_key': '',\n",
      "              'script': 'a914c84f3b5982b2976cbac16d8defa908566deecb6b87',\n",
      "              'script_type': 'p2sh',\n",
      "              'spending_index_n': None,\n",
      "              'spending_txid': None,\n",
      "              'spent': False,\n",
      "              'value': 99970652}],\n",
      " 'raw': '0100000001e4a3b169dca93bc56032bbcc287770d23b56ad3d888422ccd1d1e8ca866f1d2e0000000000ffffffff015c6ef5050000000017a914c84f3b5982b2976cbac16d8defa908566deecb6b8700000000',\n",
      " 'size': 371,\n",
      " 'status': 'new',\n",
      " 'txhash': '',\n",
      " 'txid': 'b1fb52f98cef8def293a31037af228ed1484033cab2b61ba47de24f31a72a842',\n",
      " 'verified': False,\n",
      " 'version': 1,\n",
      " 'vsize': 371,\n",
      " 'witness_type': 'legacy'}\n",
      "Verified (should be False):  False\n"
     ]
    }
   ],
   "source": [
    "# Sign the transaction with the private key of the first cosigner\n",
    "t.sign()\n",
    "\n",
    "#display the transaction information\n",
    "pprint(t.as_dict())\n",
    "\n",
    "#verify the transaction (with unverified Signature)\n",
    "print(\"Verified (should be False): \", t.verify())"
   ]
  },
  {
   "cell_type": "markdown",
   "metadata": {},
   "source": [
    "## Import transaction (with first signature) in 3rd wallet and sign with wallet's private key"
   ]
  },
  {
   "cell_type": "code",
   "execution_count": 6,
   "metadata": {},
   "outputs": [
    {
     "name": "stdout",
     "output_type": "stream",
     "text": [
      "Verified (should be True by now):  True\n"
     ]
    }
   ],
   "source": [
    "#update the UTXOs for wl3\n",
    "wl3.utxos_update()\n",
    "\n",
    "#Import the transaction t into wl3: this will add the transaction to the database and update the UTXOs\n",
    "t2 = wl3.transaction_import(t)\n",
    "\n",
    "#verify the transaction (with verified Signature)\n",
    "t2.sign()\n",
    "\n",
    "#check if the transaction is valid\n",
    "print(\"Verified (should be True by now): \", t2.verify())"
   ]
  },
  {
   "cell_type": "markdown",
   "metadata": {},
   "source": [
    "#\n",
    "# Create Multisig 2-of-2 testnet wallet, and sweep all UTXO's\n",
    "#"
   ]
  },
  {
   "cell_type": "markdown",
   "metadata": {},
   "source": [
    "## Create 2 cosigner multisig wallets"
   ]
  },
  {
   "cell_type": "code",
   "execution_count": 7,
   "metadata": {},
   "outputs": [],
   "source": [
    "NETWORK = 'bitcoinlib_test' # Bitcoin test network.\n",
    "\n",
    "#Create 2 new private key.\n",
    "pk1 = HDKey(network=NETWORK)\n",
    "pk2 = HDKey(network=NETWORK)\n",
    "\n",
    "#Create 2 new wallets, each with a different private key.\n",
    "wl1 = Wallet.create('multisig_2of2_cosigner1', sigs_required=2,\n",
    "                    keys=[pk1, pk2.public_master_multisig()],\n",
    "                    network=NETWORK, db_uri=test_database)\n",
    "wl2 = Wallet.create('multisig_2of2_cosigner2', sigs_required=2,\n",
    "                    keys=[pk1.public_master_multisig(), pk2],\n",
    "                    network=NETWORK, db_uri=test_database)\n",
    "\n",
    "#Create a new key for each wallet\n",
    "nk1 = wl1.new_key()\n",
    "nk2 = wl2.new_key(cosigner_id=0) # cosigner_id=0 means that this is the first cosigner"
   ]
  },
  {
   "cell_type": "markdown",
   "metadata": {},
   "source": [
    "## Create a transaction for send within the wallet 1"
   ]
  },
  {
   "cell_type": "code",
   "execution_count": 8,
   "metadata": {},
   "outputs": [
    {
     "name": "stdout",
     "output_type": "stream",
     "text": [
      "Utxo's found, now sweep wallet\n",
      "Transaction ID:  7b3c54e2dc522cba7b9e17bc255f89b5b59e50ed0f46b99677015ba9862ca481\n",
      "UTXOs in wl2 before update:  []\n",
      "UTXOs in wl2 afterupdate:  [{'key_id': 86, 'output_n': 0, 'script': b'', 'value': 100000000, 'spending_txid': None, 'transaction_id': 7, 'address': '23BZPP6YcvAcCVuQp8uQjj7jCEUn4vSrK4N', 'script_type': 'p2sh', 'spent': False, 'spending_index_n': None, 'confirmations': 10, 'txid': '7ff6da3ec9872aa4f7f87f2ad2fe54589a70948d456443e0814a5232825f4ef5', 'network_name': 'bitcoinlib_test'}, {'key_id': 86, 'output_n': 0, 'script': b'', 'value': 100000000, 'spending_txid': None, 'transaction_id': 8, 'address': '23BZPP6YcvAcCVuQp8uQjj7jCEUn4vSrK4N', 'script_type': 'p2sh', 'spent': False, 'spending_index_n': None, 'confirmations': 10, 'txid': 'fad43b514ccbf03a412019239d29c304ab3b4164bf33513b5946b6f54eba2c0b', 'network_name': 'bitcoinlib_test'}]\n",
      "Keys in wl2:  [<DbKey(id='86', name='Multisig Key 85/74', wif='multisig-<Address(address=23BZPP6YcvAcCVuQp8uQjj7jCEUn4vSrK4N)>'>, <DbKey(id='92', name='Multisig Key 91/90', wif='multisig-<Address(address=239CSG9PQBefpdfXtoEpsurwkR3GX4eEuJx)>'>]\n"
     ]
    },
    {
     "ename": "WalletError",
     "evalue": "UTXO 7b3543534977d61f5ee0de5b646568304a236e77afa20d3037b4ca69fedfd1df and key with address 231uhTVVSRmcxk8MGJVkkpaYh3aUak3Se7U not found in this wallet",
     "output_type": "error",
     "traceback": [
      "\u001b[1;31m---------------------------------------------------------------------------\u001b[0m",
      "\u001b[1;31mWalletError\u001b[0m                               Traceback (most recent call last)",
      "Cell \u001b[1;32mIn[8], line 22\u001b[0m\n\u001b[0;32m     19\u001b[0m \u001b[38;5;28mprint\u001b[39m(\u001b[38;5;124m\"\u001b[39m\u001b[38;5;124mKeys in wl2: \u001b[39m\u001b[38;5;124m\"\u001b[39m, wl2\u001b[38;5;241m.\u001b[39mkeys())  \u001b[38;5;66;03m# Debug print\u001b[39;00m\n\u001b[0;32m     21\u001b[0m \u001b[38;5;66;03m#Imports the sweep transaction into wl2\u001b[39;00m\n\u001b[1;32m---> 22\u001b[0m t2 \u001b[38;5;241m=\u001b[39m \u001b[43mwl2\u001b[49m\u001b[38;5;241;43m.\u001b[39;49m\u001b[43mtransaction_import\u001b[49m\u001b[43m(\u001b[49m\u001b[43mres\u001b[49m\u001b[43m)\u001b[49m\n\u001b[0;32m     24\u001b[0m \u001b[38;5;66;03m#Signs the transaction with the private key of the first cosigner\u001b[39;00m\n\u001b[0;32m     25\u001b[0m t2\u001b[38;5;241m.\u001b[39msign()\n",
      "File \u001b[1;32mc:\\Users\\Klaus\\anaconda3\\lib\\site-packages\\bitcoinlib\\wallets.py:3765\u001b[0m, in \u001b[0;36mWallet.transaction_import\u001b[1;34m(self, t)\u001b[0m\n\u001b[0;32m   3753\u001b[0m \u001b[38;5;124;03m\"\"\"\u001b[39;00m\n\u001b[0;32m   3754\u001b[0m \u001b[38;5;124;03mImport a Transaction into this wallet. Link inputs to wallet keys if possible and return WalletTransaction\u001b[39;00m\n\u001b[0;32m   3755\u001b[0m \u001b[38;5;124;03mobject. Only imports Transaction objects or dictionaries, use\u001b[39;00m\n\u001b[1;32m   (...)\u001b[0m\n\u001b[0;32m   3762\u001b[0m \n\u001b[0;32m   3763\u001b[0m \u001b[38;5;124;03m\"\"\"\u001b[39;00m\n\u001b[0;32m   3764\u001b[0m \u001b[38;5;28;01mif\u001b[39;00m \u001b[38;5;28misinstance\u001b[39m(t, Transaction):\n\u001b[1;32m-> 3765\u001b[0m     rt \u001b[38;5;241m=\u001b[39m \u001b[38;5;28;43mself\u001b[39;49m\u001b[38;5;241;43m.\u001b[39;49m\u001b[43mtransaction_create\u001b[49m\u001b[43m(\u001b[49m\u001b[43mt\u001b[49m\u001b[38;5;241;43m.\u001b[39;49m\u001b[43moutputs\u001b[49m\u001b[43m,\u001b[49m\u001b[43m \u001b[49m\u001b[43mt\u001b[49m\u001b[38;5;241;43m.\u001b[39;49m\u001b[43minputs\u001b[49m\u001b[43m,\u001b[49m\u001b[43m \u001b[49m\u001b[43mfee\u001b[49m\u001b[38;5;241;43m=\u001b[39;49m\u001b[43mt\u001b[49m\u001b[38;5;241;43m.\u001b[39;49m\u001b[43mfee\u001b[49m\u001b[43m,\u001b[49m\u001b[43m \u001b[49m\u001b[43mnetwork\u001b[49m\u001b[38;5;241;43m=\u001b[39;49m\u001b[43mt\u001b[49m\u001b[38;5;241;43m.\u001b[39;49m\u001b[43mnetwork\u001b[49m\u001b[38;5;241;43m.\u001b[39;49m\u001b[43mname\u001b[49m\u001b[43m,\u001b[49m\n\u001b[0;32m   3766\u001b[0m \u001b[43m                                 \u001b[49m\u001b[43mrandom_output_order\u001b[49m\u001b[38;5;241;43m=\u001b[39;49m\u001b[38;5;28;43;01mFalse\u001b[39;49;00m\u001b[43m)\u001b[49m\n\u001b[0;32m   3767\u001b[0m     rt\u001b[38;5;241m.\u001b[39mblock_height \u001b[38;5;241m=\u001b[39m t\u001b[38;5;241m.\u001b[39mblock_height\n\u001b[0;32m   3768\u001b[0m     rt\u001b[38;5;241m.\u001b[39mconfirmations \u001b[38;5;241m=\u001b[39m t\u001b[38;5;241m.\u001b[39mconfirmations\n",
      "File \u001b[1;32mc:\\Users\\Klaus\\anaconda3\\lib\\site-packages\\bitcoinlib\\wallets.py:3637\u001b[0m, in \u001b[0;36mWallet.transaction_create\u001b[1;34m(self, output_arr, input_arr, input_key_id, account_id, network, fee, min_confirms, max_utxos, locktime, number_of_change_outputs, random_output_order)\u001b[0m\n\u001b[0;32m   3634\u001b[0m key_id \u001b[38;5;241m=\u001b[39m \u001b[38;5;28mself\u001b[39m\u001b[38;5;241m.\u001b[39m_session\u001b[38;5;241m.\u001b[39mquery(DbKey\u001b[38;5;241m.\u001b[39mid)\u001b[38;5;241m.\u001b[39m\\\n\u001b[0;32m   3635\u001b[0m     \u001b[38;5;28mfilter\u001b[39m(DbKey\u001b[38;5;241m.\u001b[39mwallet_id \u001b[38;5;241m==\u001b[39m \u001b[38;5;28mself\u001b[39m\u001b[38;5;241m.\u001b[39mwallet_id, DbKey\u001b[38;5;241m.\u001b[39maddress \u001b[38;5;241m==\u001b[39m address)\u001b[38;5;241m.\u001b[39mscalar()\n\u001b[0;32m   3636\u001b[0m \u001b[38;5;28;01mif\u001b[39;00m \u001b[38;5;129;01mnot\u001b[39;00m key_id:\n\u001b[1;32m-> 3637\u001b[0m     \u001b[38;5;28;01mraise\u001b[39;00m WalletError(\u001b[38;5;124m\"\u001b[39m\u001b[38;5;124mUTXO \u001b[39m\u001b[38;5;132;01m%s\u001b[39;00m\u001b[38;5;124m and key with address \u001b[39m\u001b[38;5;132;01m%s\u001b[39;00m\u001b[38;5;124m not found in this wallet\u001b[39m\u001b[38;5;124m\"\u001b[39m \u001b[38;5;241m%\u001b[39m (\n\u001b[0;32m   3638\u001b[0m         to_hexstring(prev_txid), address))\n\u001b[0;32m   3639\u001b[0m \u001b[38;5;28;01mif\u001b[39;00m \u001b[38;5;129;01mnot\u001b[39;00m value:\n\u001b[0;32m   3640\u001b[0m     \u001b[38;5;28;01mraise\u001b[39;00m WalletError(\u001b[38;5;124m\"\u001b[39m\u001b[38;5;124mInput value is zero for address \u001b[39m\u001b[38;5;132;01m%s\u001b[39;00m\u001b[38;5;124m. Import or update UTXO\u001b[39m\u001b[38;5;124m'\u001b[39m\u001b[38;5;124ms first \u001b[39m\u001b[38;5;124m\"\u001b[39m\n\u001b[0;32m   3641\u001b[0m                       \u001b[38;5;124m\"\u001b[39m\u001b[38;5;124mor import transaction as dictionary\u001b[39m\u001b[38;5;124m\"\u001b[39m \u001b[38;5;241m%\u001b[39m address)\n",
      "\u001b[1;31mWalletError\u001b[0m: UTXO 7b3543534977d61f5ee0de5b646568304a236e77afa20d3037b4ca69fedfd1df and key with address 231uhTVVSRmcxk8MGJVkkpaYh3aUak3Se7U not found in this wallet"
     ]
    }
   ],
   "source": [
    "\n",
    "# wl1.utxos_update() # Update UTXO's in wallet 1\n",
    "# utxos = wl1.utxos() # Get UTXO's in wallet 1\n",
    "# if not utxos: # If no UTXO's found, print address to deposit testnet bitcoin\n",
    "#     print(\"Deposit testnet bitcoin to this address to create transaction: \", nk1.address)\n",
    "# else: # If UTXO's found, sweep wallet\n",
    "#     print(\"Utxo's found, now sweep wallet\")\n",
    "\n",
    "#     # Sweep wallet 1\n",
    "#     # sweep help create and broadcast a transaction that consolidates all UTXOs in the wallet (wl1) and sends the funds to a new address within the same wallet\n",
    "#     res = wl1.sweep(wl1.new_key().address, min_confirms=0)\n",
    "#     assert res.txid # expect a transaction ID, indicating that the sweep operation was successful, and a transaction ID (txid) was generated\n",
    "#     print(\"Transaction ID: \", res.txid)\n",
    "\n",
    "\n",
    "#     print(\"UTXOs in wl2 before update: \", wl2.utxos())  # Debug print\n",
    "#     wl2.utxos_update()# Update UTXO's in wallet 2 :This is important because the sweep operation in wl1 might create new UTXOs, and wl2 needs to be aware of them\n",
    "#     wl2.new_key() # Create a new key in wallet 2 for the change address\n",
    "#     print(\"UTXOs in wl2 afterupdate: \", wl2.utxos())  # Debug print\n",
    "#     print(\"Keys in wl2: \", wl2.keys())  # Debug print\n",
    "    \n",
    "#     #Imports the sweep transaction into wl2\n",
    "#     t2 = wl2.transaction_import(res)\n",
    "\n",
    "#     #Signs the transaction with the private key of the first cosigner\n",
    "#     t2.sign()\n",
    "#     print(\"Verified (should be True): \", t2.verify())\n",
    "\n",
    "#     #Pushes the transaction to the network\n",
    "#     t2.send()\n",
    "#     print(\"Push transaction result: \", t2.status)"
   ]
  },
  {
   "cell_type": "markdown",
   "metadata": {},
   "source": [
    "## create a transaction with 2 signatures and broadcast it to specific address"
   ]
  },
  {
   "cell_type": "code",
   "execution_count": null,
   "metadata": {},
   "outputs": [
    {
     "ename": "IndexError",
     "evalue": "list index out of range",
     "output_type": "error",
     "traceback": [
      "\u001b[1;31m---------------------------------------------------------------------------\u001b[0m",
      "\u001b[1;31mIndexError\u001b[0m                                Traceback (most recent call last)",
      "Cell \u001b[1;32mIn[9], line 3\u001b[0m\n\u001b[0;32m      1\u001b[0m \u001b[38;5;66;03m# Specify the destination address and amount in satoshis\u001b[39;00m\n\u001b[0;32m      2\u001b[0m fee \u001b[38;5;241m=\u001b[39m \u001b[38;5;241m29348\u001b[39m \u001b[38;5;66;03m# fee in satoshi\u001b[39;00m\n\u001b[1;32m----> 3\u001b[0m utxo \u001b[38;5;241m=\u001b[39m \u001b[43mwl1\u001b[49m\u001b[38;5;241;43m.\u001b[39;49m\u001b[43mutxos\u001b[49m\u001b[43m(\u001b[49m\u001b[43m)\u001b[49m\u001b[43m[\u001b[49m\u001b[38;5;241;43m0\u001b[39;49m\u001b[43m]\u001b[49m \u001b[38;5;66;03m# get the first UTXO available\u001b[39;00m\n\u001b[0;32m      4\u001b[0m output_arr \u001b[38;5;241m=\u001b[39m [(\u001b[38;5;124m'\u001b[39m\u001b[38;5;124m23Gd1mfrqgaYiPGkMm5n5UDRkCxruDAA8wo\u001b[39m\u001b[38;5;124m'\u001b[39m, \u001b[38;5;241m500000\u001b[39m)]\n\u001b[0;32m      5\u001b[0m input_arr \u001b[38;5;241m=\u001b[39m [(utxo[\u001b[38;5;124m'\u001b[39m\u001b[38;5;124mtxid\u001b[39m\u001b[38;5;124m'\u001b[39m], utxo[\u001b[38;5;124m'\u001b[39m\u001b[38;5;124moutput_n\u001b[39m\u001b[38;5;124m'\u001b[39m], utxo[\u001b[38;5;124m'\u001b[39m\u001b[38;5;124mkey_id\u001b[39m\u001b[38;5;124m'\u001b[39m], utxo[\u001b[38;5;124m'\u001b[39m\u001b[38;5;124mvalue\u001b[39m\u001b[38;5;124m'\u001b[39m])]\n",
      "\u001b[1;31mIndexError\u001b[0m: list index out of range"
     ]
    }
   ],
   "source": [
    "wl1.utxos_update()\n",
    "\n",
    "# Specify the destination address and amount in satoshis\n",
    "fee = 29348 # fee in satoshi\n",
    "utxo = wl1.utxos()[0] # get the first UTXO available\n",
    "output_arr = [('23Gd1mfrqgaYiPGkMm5n5UDRkCxruDAA8wo', 500000)]\n",
    "input_arr = [(utxo['txid'], utxo['output_n'], utxo['key_id'], utxo['value'])]\n",
    "\n",
    "# Get UTXOs from the wallet (assuming they exist)\n",
    "wl1.utxos_update()\n",
    "utxos = wl1.utxos()\n",
    "\n",
    "if not utxos:\n",
    "    print(\"No UTXOs found, deposit testnet bitcoin to this address to create transaction: \", nk1.address)\n",
    "else:\n",
    "    print(\"UTXOs found, now create transaction\")\n",
    "    # Create the transaction\n",
    "    t = wl1.transaction_create(output_arr, input_arr, fee=fee)\n",
    "    # Sign the transaction\n",
    "    t.sign()\n",
    "    # Verify the transaction\n",
    "    print(\"Verified (should be False beacause wallet not sign yet): \", t.verify())\n",
    "    # Push the transaction to the network\n",
    "    t.send()\n",
    "    print(\"Push transaction result: \", t.status)\n",
    "\n",
    "    # send to wallet 2 to sign\n",
    "    print(\"UTXOs in wl2 before update: \", wl2.utxos())  # Debug print\n",
    "    wl2.utxos_update()# Update UTXO's in wallet 2 :This is important because the sweep operation in wl1 might create new UTXOs, and wl2 needs to be aware of them\n",
    "    wl2.new_key() # Create a new key in wallet 2 for the change address\n",
    "    print(\"UTXOs in wl2 afterupdate: \", wl2.utxos())  # Debug print\n",
    "    print(\"Keys in wl2: \", wl2.keys())  # Debug print\n",
    "    \n",
    "    #Imports the sweep transaction into wl2\n",
    "    t2 = wl2.transaction_import(t)\n",
    "\n",
    "    #Signs the transaction with the private key of the first cosigner\n",
    "    t2.sign()\n",
    "    print(\"Verified (should be True because both wallet are signed now): \", t2.verify())\n",
    "\n",
    "    #Pushes the transaction to the network\n",
    "    t2.send()\n",
    "    print(\"Push transaction result: \", t2.status)"
   ]
  },
  {
   "cell_type": "markdown",
   "metadata": {},
   "source": [
    "#\n",
    "# Multisig wallet using single keys for cosigner wallet instead of BIP32 type key structures\n",
    "#\n",
    "\n",
    "this means we only need one private key to sign a transaction, this will simpler than 2-of-2 multisig wallet above"
   ]
  },
  {
   "cell_type": "code",
   "execution_count": null,
   "metadata": {},
   "outputs": [],
   "source": [
    "NETWORK = 'bitcoinlib_test'\n",
    "pk1 = HDKey('YXscyqNJ5YK411nwB33KeVkhSVjwwUkSG9xG3hkaoQFEbTwNJSrNTfni3aSSYiKtPeUPrFLwDsqHwZjNXhYm2DLEkQoaoikHoK2emrHv'\n",
    "            'mqSEZrKP', network=NETWORK)\n",
    "pk2 = HDKey('YXscyqNJ5YK411nwB3kXiApMaJySYss8sMM9FYgXMtmQKmDTF9yiu7yBNKnVjE8WdVVvuhxLqS6kHvW2MPHKmYzbzEHQsDXXAZuu1rCs'\n",
    "            'Hcp7rrJx', network=NETWORK, key_type='single')\n",
    "wl1 = Wallet.create('multisig_single_keys1', [pk1, pk2.public()],\n",
    "                    sigs_required=2, network=NETWORK, db_uri=test_database)\n",
    "wl2 = Wallet.create('multisig_single_keys2', [pk1.public_master_multisig(), pk2],\n",
    "                    sigs_required=2, network=NETWORK, db_uri=test_database)"
   ]
  },
  {
   "cell_type": "markdown",
   "metadata": {},
   "source": [
    "## Create multisig keys and update UTXO's"
   ]
  },
  {
   "cell_type": "code",
   "execution_count": null,
   "metadata": {},
   "outputs": [
    {
     "data": {
      "text/plain": [
       "2"
      ]
     },
     "execution_count": 10,
     "metadata": {},
     "output_type": "execute_result"
    }
   ],
   "source": [
    "# create a new key for each wallet and indicate that anyone can be the cosigner\n",
    "wl1.new_key(cosigner_id=0)\n",
    "wl2.new_key(cosigner_id=0)\n",
    "\n",
    "# update the UTXOs for each wallet\n",
    "wl1.utxos_update()\n",
    "wl2.utxos_update()"
   ]
  },
  {
   "cell_type": "markdown",
   "metadata": {},
   "source": [
    "## Create transaction and sign with both wallets, return address should be the same"
   ]
  },
  {
   "cell_type": "code",
   "execution_count": null,
   "metadata": {},
   "outputs": [
    {
     "name": "stdout",
     "output_type": "stream",
     "text": [
      "23Gd1mfrqgaYiPGkMm5n5UDRkCxruDAA8wo == 23Gd1mfrqgaYiPGkMm5n5UDRkCxruDAA8wo: True\n",
      "Verified (should be True):  True\n"
     ]
    }
   ],
   "source": [
    "# create a transaction \"t\" in waller 2\n",
    "t = wl2.transaction_create([('23Gd1mfrqgaYiPGkMm5n5UDRkCxruDAA8wo', 5000000)])\n",
    "t.sign() # sign the transaction with the private key(s) associated with wl2\n",
    "\n",
    "# import the transaction into wl1\n",
    "t2 = wl1.transaction_import(t)\n",
    "t2.sign()# sign the transaction with the private key(s) associated with wl1 and update the UTXOs\n",
    "\n",
    "# verify the transaction\n",
    "print(\"%s == %s: %s\" % (t.outputs[1].address, t2.outputs[1].address, t.outputs[1].address == t2.outputs[1].address))\n",
    "print(\"Verified (should be True): \", t2.verify())"
   ]
  }
 ],
 "metadata": {
  "kernelspec": {
   "display_name": "base",
   "language": "python",
   "name": "python3"
  },
  "language_info": {
   "codemirror_mode": {
    "name": "ipython",
    "version": 3
   },
   "file_extension": ".py",
   "mimetype": "text/x-python",
   "name": "python",
   "nbconvert_exporter": "python",
   "pygments_lexer": "ipython3",
   "version": "3.10.9"
  }
 },
 "nbformat": 4,
 "nbformat_minor": 2
}
