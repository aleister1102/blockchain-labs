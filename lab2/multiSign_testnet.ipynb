{
 "cells": [
  {
   "cell_type": "markdown",
   "metadata": {},
   "source": [
    "#\n",
    "# Create a multi-signature wallet using Bitcoinlib testnet and then create a transaction\n",
    "#\n"
   ]
  },
  {
   "cell_type": "markdown",
   "metadata": {},
   "source": [
    "## import libraries and testnest\n",
    "\n",
    "bitcoinlib.test.sqlite is belong to bitcoinlib library\n"
   ]
  },
  {
   "cell_type": "code",
   "execution_count": 1,
   "metadata": {},
   "outputs": [
    {
     "name": "stdout",
     "output_type": "stream",
     "text": [
      "sqlite:///C:\\Users\\Klaus\\.bitcoinlib\\database\\bitcoinlib.test.sqlite\n"
     ]
    }
   ],
   "source": [
    "import os\n",
    "from pprint import pprint\n",
    "from bitcoinlib.wallets import *\n",
    "\n",
    "test_databasefile = os.path.join(BCL_DATABASE_DIR, 'bitcoinlib.test.sqlite')\n",
    "test_database = 'sqlite:///' + test_databasefile\n",
    "if os.path.isfile(test_databasefile):\n",
    "    os.remove(test_databasefile)\n",
    "\n",
    "print(test_database)\n"
   ]
  },
  {
   "cell_type": "markdown",
   "metadata": {},
   "source": [
    "## Create 3 wallets with one private keys each, and 2 public keys corresponding with other wallets"
   ]
  },
  {
   "cell_type": "code",
   "execution_count": 2,
   "metadata": {},
   "outputs": [],
   "source": [
    "NETWORK = 'bitcoinlib_test' # Bitcoin test network.\n",
    "\n",
    "#Create 3 new private key. HDKey is a \"hierarchical deterministic key\" for use in BIP32 wallets.\n",
    "pk1 = HDKey(network=NETWORK) \n",
    "pk2 = HDKey(network=NETWORK)\n",
    "pk3 = HDKey(network=NETWORK)\n",
    "\n",
    "#Create 3 new wallets, each with a different private key.\n",
    "## w1 with private key pk1 and public key corresponding to the second and third private key\n",
    "klist = [pk1, pk2.public_master_multisig(), pk3.public_master_multisig()]\n",
    "wl1 = Wallet.create('multisig_2of3_cosigner1', sigs_required=2, keys=klist,\n",
    "                    network=NETWORK, db_uri=test_database)\n",
    "\n",
    "## w2 with private key pk2 and public key corresponding to the first and third private key\n",
    "klist = [pk1.public_master_multisig(), pk2, pk3.public_master_multisig()]\n",
    "wl2 = Wallet.create('multisig_2of3_cosigner2',  sigs_required=2, keys=klist,\n",
    "                    network=NETWORK, db_uri=test_database)\n",
    "\n",
    "## w3 with private key pk3 and public key corresponding to the first and second private key\n",
    "klist = [pk1.public_master_multisig(), pk2.public_master_multisig(), pk3]\n",
    "wl3 = Wallet.create('multisig_2of3_cosigner3', sigs_required=2, keys=klist,\n",
    "                    network=NETWORK, db_uri=test_database)"
   ]
  },
  {
   "cell_type": "markdown",
   "metadata": {},
   "source": [
    "## Generate a new key in each wallet, all these keys should be the same"
   ]
  },
  {
   "cell_type": "code",
   "execution_count": 3,
   "metadata": {},
   "outputs": [
    {
     "name": "stdout",
     "output_type": "stream",
     "text": [
      "Created new multisig address:  multisig-<Address(address=23JvmSXiFkbGHVMmP4cvBtAng47Z1K4yhAh)>\n"
     ]
    }
   ],
   "source": [
    "nk1 = wl1.new_key(cosigner_id=1)\n",
    "nk2 = wl2.new_key(cosigner_id=1)\n",
    "nk3 = wl3.new_key(cosigner_id=1)\n",
    "assert nk1.wif == nk2.wif == nk3.wif # make sure they are the same\n",
    "print(\"Created new multisig address: \", nk1.wif)\n"
   ]
  },
  {
   "cell_type": "markdown",
   "metadata": {},
   "source": [
    "## Create a transaction"
   ]
  },
  {
   "cell_type": "code",
   "execution_count": 4,
   "metadata": {},
   "outputs": [
    {
     "name": "stdout",
     "output_type": "stream",
     "text": [
      "UTXO:  {'key_id': 46, 'output_n': 0, 'script': b'', 'value': 100000000, 'spending_txid': None, 'transaction_id': 1, 'address': '23JvmSXiFkbGHVMmP4cvBtAng47Z1K4yhAh', 'script_type': 'p2sh', 'spent': False, 'spending_index_n': None, 'confirmations': 10, 'txid': '9d72a74a6865df568eca0cae1ed257e2d2d1ceaf319846d115ba7d83a508661b', 'network_name': 'bitcoinlib_test'}\n"
     ]
    }
   ],
   "source": [
    "fee = 29348 # fee in satoshi\n",
    "\n",
    "#updates the Unspent Transaction Outputs (UTXOs) for wl1, which is a wallet object\n",
    "wl1.utxos_update()  # On bitcoinlib testnet, this automatically creates an UTXO\n",
    "utxo = wl1.utxos()[0] # get the first UTXO available\n",
    "print(\"UTXO: \", utxo)\n",
    "\n",
    "# Defining Output and Input for the Transaction\n",
    "# + Output: The address to send the transaction to and the amount to send\n",
    "# + Input: The UTXO to use as input for the transaction: the transaction id, the output number, the key id and the value\n",
    "output_arr = [('23Gd1mfrqgaYiPGkMm5n5UDRkCxruDAA8wo', utxo['value'] - fee)]\n",
    "input_arr = [(utxo['txid'], utxo['output_n'], utxo['key_id'], utxo['value'])]\n",
    "\n",
    "# Create a transaction for wallet: wl1\n",
    "t = wl1.transaction_create(output_arr, input_arr, fee=fee)\n"
   ]
  },
  {
   "cell_type": "markdown",
   "metadata": {},
   "source": [
    "## sign transaction with first wallet, it should not verify yet"
   ]
  },
  {
   "cell_type": "code",
   "execution_count": 5,
   "metadata": {},
   "outputs": [
    {
     "name": "stdout",
     "output_type": "stream",
     "text": [
      "{'block_hash': None,\n",
      " 'block_height': None,\n",
      " 'coinbase': False,\n",
      " 'confirmations': None,\n",
      " 'date': None,\n",
      " 'fee': 29348,\n",
      " 'fee_per_kb': 79105,\n",
      " 'flag': None,\n",
      " 'input_total': 100000000,\n",
      " 'inputs': [{'address': '23JvmSXiFkbGHVMmP4cvBtAng47Z1K4yhAh',\n",
      "             'compressed': True,\n",
      "             'double_spend': False,\n",
      "             'encoding': 'base58',\n",
      "             'index_n': 0,\n",
      "             'locktime_cltv': None,\n",
      "             'locktime_csv': None,\n",
      "             'output_n': 0,\n",
      "             'prev_txid': '9d72a74a6865df568eca0cae1ed257e2d2d1ceaf319846d115ba7d83a508661b',\n",
      "             'public_hash': 'e19b02354cb6b86d640f91988d1402f0db102cda',\n",
      "             'public_keys': ['021c1d2bb3aedd60df8ceb036c3c30693e0e1103ea854e4c540ebd0099533014a9',\n",
      "                             '024cb859e1486afc0d7f807ae9452208e9e68441954c921533c1236c209ce2d4a0',\n",
      "                             '03e1d5307fb3b534765e2a00d547d2834289c3081b4bd0cdfec79140f6d6d9b94f'],\n",
      "             'redeemscript': '5221021c1d2bb3aedd60df8ceb036c3c30693e0e1103ea854e4c540ebd0099533014a921024cb859e1486afc0d7f807ae9452208e9e68441954c921533c1236c209ce2d4a02103e1d5307fb3b534765e2a00d547d2834289c3081b4bd0cdfec79140f6d6d9b94f53ae',\n",
      "             'script': '',\n",
      "             'script_code': '',\n",
      "             'script_type': 'p2sh_multisig',\n",
      "             'sequence': 4294967295,\n",
      "             'signatures': ['22648ac08fa0bfd150ba09792a66e397f73acb9abe952d07781032a678083e112af7bbeea8ef9af959eabfdd276b2f800371fc7762415cf1ca3c3326b9880d9a'],\n",
      "             'sigs_required': 2,\n",
      "             'sort': True,\n",
      "             'unlocking_script': '',\n",
      "             'unlocking_script_unsigned': '5221021c1d2bb3aedd60df8ceb036c3c30693e0e1103ea854e4c540ebd0099533014a921024cb859e1486afc0d7f807ae9452208e9e68441954c921533c1236c209ce2d4a02103e1d5307fb3b534765e2a00d547d2834289c3081b4bd0cdfec79140f6d6d9b94f53ae',\n",
      "             'valid': None,\n",
      "             'value': 100000000,\n",
      "             'witness': '',\n",
      "             'witness_type': 'legacy'}],\n",
      " 'locktime': 0,\n",
      " 'network': 'bitcoinlib_test',\n",
      " 'output_total': 99970652,\n",
      " 'outputs': [{'address': '23Gd1mfrqgaYiPGkMm5n5UDRkCxruDAA8wo',\n",
      "              'output_n': 0,\n",
      "              'public_hash': 'c84f3b5982b2976cbac16d8defa908566deecb6b',\n",
      "              'public_key': '',\n",
      "              'script': 'a914c84f3b5982b2976cbac16d8defa908566deecb6b87',\n",
      "              'script_type': 'p2sh',\n",
      "              'spending_index_n': None,\n",
      "              'spending_txid': None,\n",
      "              'spent': False,\n",
      "              'value': 99970652}],\n",
      " 'raw': '01000000011b6608a5837dba15d1469831afced1d2e257d21eae0cca8e56df65684aa7729d0000000000ffffffff015c6ef5050000000017a914c84f3b5982b2976cbac16d8defa908566deecb6b8700000000',\n",
      " 'size': 371,\n",
      " 'status': 'new',\n",
      " 'txhash': '',\n",
      " 'txid': 'f845a0adbbd7161b90657c60a14dcde6583473fa30e05902488173c7519121dd',\n",
      " 'verified': False,\n",
      " 'version': 1,\n",
      " 'vsize': 371,\n",
      " 'witness_type': 'legacy'}\n",
      "Verified (should be False):  False\n"
     ]
    }
   ],
   "source": [
    "# Sign the transaction with the private key of the first cosigner\n",
    "t.sign()\n",
    "\n",
    "#display the transaction information\n",
    "pprint(t.as_dict())\n",
    "\n",
    "#verify the transaction (with unverified Signature)\n",
    "print(\"Verified (should be False): \", t.verify())"
   ]
  },
  {
   "cell_type": "markdown",
   "metadata": {},
   "source": [
    "## Import transaction (with first signature) in 3rd wallet and sign with wallet's private key"
   ]
  },
  {
   "cell_type": "code",
   "execution_count": 6,
   "metadata": {},
   "outputs": [
    {
     "name": "stdout",
     "output_type": "stream",
     "text": [
      "Verified (should be True by now):  True\n"
     ]
    }
   ],
   "source": [
    "#update the UTXOs for wl3\n",
    "wl3.utxos_update()\n",
    "\n",
    "#Import the transaction t into wl3: this will add the transaction to the database and update the UTXOs\n",
    "t2 = wl3.transaction_import(t)\n",
    "\n",
    "#verify the transaction (with verified Signature)\n",
    "t2.sign()\n",
    "\n",
    "#check if the transaction is valid\n",
    "print(\"Verified (should be True by now): \", t2.verify())"
   ]
  },
  {
   "cell_type": "markdown",
   "metadata": {},
   "source": [
    "#\n",
    "# Create Multisig 2-of-2 testnet wallet, and sweep all UTXO's\n",
    "#"
   ]
  },
  {
   "cell_type": "markdown",
   "metadata": {},
   "source": [
    "## Create 2 cosigner multisig wallets"
   ]
  },
  {
   "cell_type": "code",
   "execution_count": 7,
   "metadata": {},
   "outputs": [],
   "source": [
    "NETWORK = 'bitcoinlib_test' # Bitcoin test network.\n",
    "\n",
    "#Create 2 new private key.\n",
    "pk1 = HDKey(network=NETWORK)\n",
    "pk2 = HDKey(network=NETWORK)\n",
    "\n",
    "#Create 2 new wallets, each with a different private key.\n",
    "wl1 = Wallet.create('multisig_2of2_cosigner1', sigs_required=2,\n",
    "                    keys=[pk1, pk2.public_master_multisig()],\n",
    "                    network=NETWORK, db_uri=test_database)\n",
    "wl2 = Wallet.create('multisig_2of2_cosigner2', sigs_required=2,\n",
    "                    keys=[pk1.public_master_multisig(), pk2],\n",
    "                    network=NETWORK, db_uri=test_database)\n",
    "\n",
    "#Create a new key for each wallet\n",
    "nk1 = wl1.new_key()\n",
    "nk2 = wl2.new_key(cosigner_id=0) # cosigner_id=0 means that this is the first cosigner"
   ]
  },
  {
   "cell_type": "markdown",
   "metadata": {},
   "source": [
    "## Create a transaction"
   ]
  },
  {
   "cell_type": "code",
   "execution_count": 8,
   "metadata": {},
   "outputs": [
    {
     "name": "stdout",
     "output_type": "stream",
     "text": [
      "Utxo's found, now sweep wallet\n",
      "Transaction ID:  d21b31f1640edc96d23cb8725a3fc302107fd356db03bef65b08abe736fbc369\n",
      "UTXOs in wl2 before update:  []\n",
      "UTXOs in wl2 afterupdate:  [{'key_id': 86, 'output_n': 0, 'script': b'', 'value': 100000000, 'spending_txid': None, 'transaction_id': 7, 'address': '231Xm953xK1FH2izg8y953HgQUidj2mc8qX', 'script_type': 'p2sh', 'spent': False, 'spending_index_n': None, 'confirmations': 10, 'txid': 'a17efd24062d90bedfeca6913c5a8ca4038facf5b61dcec9f1af05309d1310e5', 'network_name': 'bitcoinlib_test'}, {'key_id': 86, 'output_n': 0, 'script': b'', 'value': 100000000, 'spending_txid': None, 'transaction_id': 8, 'address': '231Xm953xK1FH2izg8y953HgQUidj2mc8qX', 'script_type': 'p2sh', 'spent': False, 'spending_index_n': None, 'confirmations': 10, 'txid': '9ac2c3633b133060a7cca2d3e24f79d32f6fec90a920b0ac359cabbd19f75e36', 'network_name': 'bitcoinlib_test'}]\n",
      "Keys in wl2:  [<DbKey(id='86', name='Multisig Key 85/74', wif='multisig-<Address(address=231Xm953xK1FH2izg8y953HgQUidj2mc8qX)>'>, <DbKey(id='92', name='Multisig Key 91/90', wif='multisig-<Address(address=23ExMmmZS66B3zWhyWnfT4aE2ZCcAmUe34P)>'>]\n",
      "Verified (should be True):  True\n",
      "Push transaction result:  unconfirmed\n"
     ]
    }
   ],
   "source": [
    "\n",
    "wl1.utxos_update() # Update UTXO's in wallet 1\n",
    "utxos = wl1.utxos() # Get UTXO's in wallet 1\n",
    "if not utxos: # If no UTXO's found, print address to deposit testnet bitcoin\n",
    "    print(\"Deposit testnet bitcoin to this address to create transaction: \", nk1.address)\n",
    "else: # If UTXO's found, sweep wallet\n",
    "    print(\"Utxo's found, now sweep wallet\")\n",
    "\n",
    "    # Sweep wallet 1\n",
    "    res = wl1.sweep(wl1.new_key().address, min_confirms=0)\n",
    "    assert res.txid # expect a transaction ID, indicating that the sweep operation was successful, and a transaction ID (txid) was generated\n",
    "    print(\"Transaction ID: \", res.txid)\n",
    "\n",
    "\n",
    "    print(\"UTXOs in wl2 before update: \", wl2.utxos())  # Debug print\n",
    "    wl2.utxos_update()# Update UTXO's in wallet 2 :This is important because the sweep operation in wl1 might create new UTXOs, and wl2 needs to be aware of them\n",
    "    wl2.new_key() # Create a new key in wallet 2 for the change address\n",
    "    print(\"UTXOs in wl2 afterupdate: \", wl2.utxos())  # Debug print\n",
    "    print(\"Keys in wl2: \", wl2.keys())  # Debug print\n",
    "    \n",
    "    #Imports the sweep transaction into wl2\n",
    "    t2 = wl2.transaction_import(res)\n",
    "\n",
    "    #Signs the transaction with the private key of the first cosigner\n",
    "    t2.sign()\n",
    "    print(\"Verified (should be True): \", t2.verify())\n",
    "\n",
    "    #Pushes the transaction to the network\n",
    "    t2.send()\n",
    "    print(\"Push transaction result: \", t2.status)"
   ]
  },
  {
   "cell_type": "markdown",
   "metadata": {},
   "source": [
    "#\n",
    "# Multisig wallet using single keys for cosigner wallet instead of BIP32 type key structures\n",
    "#\n",
    "\n",
    "this means we only need one private key to sign a transaction, this will simpler than 2-of-2 multisig wallet above"
   ]
  },
  {
   "cell_type": "code",
   "execution_count": 9,
   "metadata": {},
   "outputs": [],
   "source": [
    "NETWORK = 'bitcoinlib_test'\n",
    "pk1 = HDKey('YXscyqNJ5YK411nwB33KeVkhSVjwwUkSG9xG3hkaoQFEbTwNJSrNTfni3aSSYiKtPeUPrFLwDsqHwZjNXhYm2DLEkQoaoikHoK2emrHv'\n",
    "            'mqSEZrKP', network=NETWORK)\n",
    "pk2 = HDKey('YXscyqNJ5YK411nwB3kXiApMaJySYss8sMM9FYgXMtmQKmDTF9yiu7yBNKnVjE8WdVVvuhxLqS6kHvW2MPHKmYzbzEHQsDXXAZuu1rCs'\n",
    "            'Hcp7rrJx', network=NETWORK, key_type='single')\n",
    "wl1 = Wallet.create('multisig_single_keys1', [pk1, pk2.public()],\n",
    "                    sigs_required=2, network=NETWORK, db_uri=test_database)\n",
    "wl2 = Wallet.create('multisig_single_keys2', [pk1.public_master_multisig(), pk2],\n",
    "                    sigs_required=2, network=NETWORK, db_uri=test_database)"
   ]
  },
  {
   "cell_type": "markdown",
   "metadata": {},
   "source": [
    "## Create multisig keys and update UTXO's"
   ]
  },
  {
   "cell_type": "code",
   "execution_count": 10,
   "metadata": {},
   "outputs": [
    {
     "data": {
      "text/plain": [
       "2"
      ]
     },
     "execution_count": 10,
     "metadata": {},
     "output_type": "execute_result"
    }
   ],
   "source": [
    "# create a new key for each wallet and indicate that anyone can be the cosigner\n",
    "wl1.new_key(cosigner_id=0)\n",
    "wl2.new_key(cosigner_id=0)\n",
    "\n",
    "# update the UTXOs for each wallet\n",
    "wl1.utxos_update()\n",
    "wl2.utxos_update()"
   ]
  },
  {
   "cell_type": "markdown",
   "metadata": {},
   "source": [
    "## Create transaction and sign with both wallets, return address should be the same"
   ]
  },
  {
   "cell_type": "code",
   "execution_count": 11,
   "metadata": {},
   "outputs": [
    {
     "name": "stdout",
     "output_type": "stream",
     "text": [
      "23Gd1mfrqgaYiPGkMm5n5UDRkCxruDAA8wo == 23Gd1mfrqgaYiPGkMm5n5UDRkCxruDAA8wo: True\n",
      "Verified (should be True):  True\n"
     ]
    }
   ],
   "source": [
    "# create a transaction \"t\" in waller 2\n",
    "t = wl2.transaction_create([('23Gd1mfrqgaYiPGkMm5n5UDRkCxruDAA8wo', 5000000)])\n",
    "t.sign() # sign the transaction with the private key(s) associated with wl2\n",
    "\n",
    "# import the transaction into wl1\n",
    "t2 = wl1.transaction_import(t)\n",
    "t2.sign()# sign the transaction with the private key(s) associated with wl1 and update the UTXOs\n",
    "\n",
    "# verify the transaction\n",
    "print(\"%s == %s: %s\" % (t.outputs[1].address, t2.outputs[1].address, t.outputs[1].address == t2.outputs[1].address))\n",
    "print(\"Verified (should be True): \", t2.verify())"
   ]
  }
 ],
 "metadata": {
  "kernelspec": {
   "display_name": "base",
   "language": "python",
   "name": "python3"
  },
  "language_info": {
   "codemirror_mode": {
    "name": "ipython",
    "version": 3
   },
   "file_extension": ".py",
   "mimetype": "text/x-python",
   "name": "python",
   "nbconvert_exporter": "python",
   "pygments_lexer": "ipython3",
   "version": "3.10.9"
  }
 },
 "nbformat": 4,
 "nbformat_minor": 2
}
